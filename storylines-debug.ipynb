{
 "cells": [
  {
   "cell_type": "code",
   "execution_count": 1,
   "id": "b9ab4342-12e5-4d8b-ba9f-bc8b3821b729",
   "metadata": {},
   "outputs": [],
   "source": [
    "%load_ext autoreload\n",
    "%autoreload 2\n",
    "\n",
    "import os\n",
    "\n",
    "from newspaper import Article\n",
    "import newspaper\n",
    "import spacy\n",
    "import csv\n",
    "from sklearn.decomposition import PCA\n",
    "import numpy as np\n",
    "import matplotlib.pyplot as plt\n",
    "import openai\n",
    "from tenacity import retry, wait_random_exponential, stop_after_attempt\n",
    "\n",
    "# import local modules\n",
    "from utils import *"
   ]
  },
  {
   "cell_type": "code",
   "execution_count": 2,
   "id": "aab0e428",
   "metadata": {},
   "outputs": [
    {
     "name": "stdout",
     "output_type": "stream",
     "text": [
      "Enabling notebook extension jupyter-js-widgets/extension...\n",
      "      - Validating: \u001b[32mOK\u001b[0m\n",
      "Enabling: voila\n",
      "- Writing config: /home/murnanedaniel/miniconda3/etc/jupyter\n",
      "    - Validating...\n",
      "      voila 0.3.3 \u001b[32mOK\u001b[0m\n"
     ]
    }
   ],
   "source": [
    "# !jupyter nbextension enable --py widgetsnbextension --sys-prefix\n",
    "# !jupyter serverextension enable voila --sys-prefix"
   ]
  },
  {
   "cell_type": "markdown",
   "id": "5962c857",
   "metadata": {},
   "source": [
    "## Test Interactive"
   ]
  },
  {
   "cell_type": "code",
   "execution_count": 3,
   "id": "d436d9f6",
   "metadata": {},
   "outputs": [],
   "source": [
    "import ipywidgets as widgets\n",
    "from IPython.display import display, clear_output"
   ]
  },
  {
   "cell_type": "code",
   "execution_count": 4,
   "id": "4d42e75d",
   "metadata": {},
   "outputs": [],
   "source": [
    "grand = widgets.ToggleButtons(\n",
    "            options=['grandson', 'granddaughter']\n",
    "        )"
   ]
  },
  {
   "cell_type": "code",
   "execution_count": 5,
   "id": "38468014-6017-4d8d-921a-4968a4076566",
   "metadata": {},
   "outputs": [
    {
     "data": {
      "application/vnd.jupyter.widget-view+json": {
       "model_id": "220388131eb64ea2aeba708140a03d5a",
       "version_major": 2,
       "version_minor": 0
      },
      "text/plain": [
       "ToggleButtons(options=('grandson', 'granddaughter'), value='grandson')"
      ]
     },
     "metadata": {},
     "output_type": "display_data"
    }
   ],
   "source": [
    "grand"
   ]
  },
  {
   "cell_type": "code",
   "execution_count": 6,
   "id": "a307cc84-fa3d-486c-a6e8-b72663d83f51",
   "metadata": {},
   "outputs": [],
   "source": [
    "name = widgets.Text(placeholder='Your name here')"
   ]
  },
  {
   "cell_type": "code",
   "execution_count": 10,
   "id": "3a266c77-aa4d-4f25-baee-c929697e7821",
   "metadata": {},
   "outputs": [
    {
     "data": {
      "application/vnd.jupyter.widget-view+json": {
       "model_id": "00e05634d07c4fe89530fb0a6f0b5440",
       "version_major": 2,
       "version_minor": 0
      },
      "text/plain": [
       "Text(value='', placeholder='Your name here')"
      ]
     },
     "metadata": {},
     "output_type": "display_data"
    }
   ],
   "source": [
    "name"
   ]
  },
  {
   "cell_type": "code",
   "execution_count": 8,
   "id": "7b7028bb-bef3-4216-bc53-3346c78eeb98",
   "metadata": {},
   "outputs": [],
   "source": [
    "friends = widgets.IntSlider(\n",
    "            value=3, \n",
    "            min=0, \n",
    "            max=10,\n",
    "            step=1,\n",
    "            style={'description_width': 'initial' }\n",
    "          )"
   ]
  },
  {
   "cell_type": "code",
   "execution_count": 11,
   "id": "00546918-25ef-461c-bc13-2a6f10e5e031",
   "metadata": {},
   "outputs": [
    {
     "data": {
      "application/vnd.jupyter.widget-view+json": {
       "model_id": "3234ebde1a1a433bb486dc9b9456202e",
       "version_major": 2,
       "version_minor": 0
      },
      "text/plain": [
       "IntSlider(value=3, max=10, style=SliderStyle(description_width='initial'))"
      ]
     },
     "metadata": {},
     "output_type": "display_data"
    }
   ],
   "source": [
    "friends"
   ]
  },
  {
   "cell_type": "code",
   "execution_count": 15,
   "id": "c58675d0-326c-43ea-8adc-e0702f58f3a1",
   "metadata": {},
   "outputs": [],
   "source": [
    "button_send = widgets.Button(\n",
    "                description='Send to grandma',\n",
    "                tooltip='Send',\n",
    "                style={'description_width': 'initial'}\n",
    "            )\n",
    "output = widgets.Output()\n",
    "def on_button_clicked(event):\n",
    "    with output:\n",
    "        clear_output()\n",
    "        print(\"Sent message: \")\n",
    "        print(f\"Dear Grandma! This is your favourite {grand.value}, {name.value}.\")\n",
    "        print(f\"Also, if you don't mind, I'll bring along {friends.value} hungry ghosts for your delicious food!\")\n",
    "button_send.on_click(on_button_clicked)\n",
    "vbox_result = widgets.VBox([button_send, output])"
   ]
  },
  {
   "cell_type": "code",
   "execution_count": 16,
   "id": "d9bb0640-8b66-4da9-b577-399ea3b5120d",
   "metadata": {},
   "outputs": [
    {
     "data": {
      "application/vnd.jupyter.widget-view+json": {
       "model_id": "9c3a9c1f4ea24836ba0d403b440c88e9",
       "version_major": 2,
       "version_minor": 0
      },
      "text/plain": [
       "Button(description='Send to grandma', style=ButtonStyle(), tooltip='Send')"
      ]
     },
     "metadata": {},
     "output_type": "display_data"
    }
   ],
   "source": [
    "button_send"
   ]
  },
  {
   "cell_type": "code",
   "execution_count": 17,
   "id": "4e8ea92e-79eb-4957-b1e3-b06ecf86aac8",
   "metadata": {},
   "outputs": [
    {
     "data": {
      "application/vnd.jupyter.widget-view+json": {
       "model_id": "fc7cd79c98974157ad844e053e29cba8",
       "version_major": 2,
       "version_minor": 0
      },
      "text/plain": [
       "Output()"
      ]
     },
     "metadata": {},
     "output_type": "display_data"
    }
   ],
   "source": [
    "output"
   ]
  },
  {
   "cell_type": "markdown",
   "id": "d415a51a-3692-42b0-b66a-14c779b98726",
   "metadata": {},
   "source": [
    "# Storylines Fiddle"
   ]
  },
  {
   "cell_type": "code",
   "execution_count": 18,
   "id": "c18db8a4-d302-4ae7-a5e2-450c00bbf278",
   "metadata": {},
   "outputs": [],
   "source": [
    "openAIkey = widgets.Text(placeholder='OpenAI API key')\n",
    "googlekey = widgets.Text(placeholder='Google News API key')"
   ]
  },
  {
   "cell_type": "code",
   "execution_count": null,
   "id": "baa4f361-cc58-45db-bebe-005c2e2a7348",
   "metadata": {},
   "outputs": [],
   "source": []
  }
 ],
 "metadata": {
  "interpreter": {
   "hash": "31f2aee4e71d21fbe5cf8b01ff0e069b9275f58929596ceb00d14d90e3e16cd6"
  },
  "kernelspec": {
   "display_name": "TopicDetection",
   "language": "python",
   "name": "topicdetection"
  },
  "language_info": {
   "codemirror_mode": {
    "name": "ipython",
    "version": 3
   },
   "file_extension": ".py",
   "mimetype": "text/x-python",
   "name": "python",
   "nbconvert_exporter": "python",
   "pygments_lexer": "ipython3",
   "version": "3.8.12"
  }
 },
 "nbformat": 4,
 "nbformat_minor": 5
}
