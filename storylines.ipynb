{
 "cells": [
  {
   "cell_type": "code",
   "execution_count": 119,
   "id": "b9ab4342-12e5-4d8b-ba9f-bc8b3821b729",
   "metadata": {},
   "outputs": [
    {
     "name": "stdout",
     "output_type": "stream",
     "text": [
      "The autoreload extension is already loaded. To reload it, use:\n",
      "  %reload_ext autoreload\n"
     ]
    }
   ],
   "source": [
    "%load_ext autoreload\n",
    "%autoreload 2\n",
    "\n",
    "import os\n",
    "\n",
    "from newspaper import Article\n",
    "import newspaper\n",
    "import spacy\n",
    "import csv\n",
    "from sklearn.decomposition import PCA\n",
    "import numpy as np\n",
    "import matplotlib.pyplot as plt\n",
    "import openai\n",
    "from tenacity import retry, wait_random_exponential, stop_after_attempt\n",
    "\n",
    "# import local modules\n",
    "from utils import *"
   ]
  },
  {
   "cell_type": "markdown",
   "id": "6658bafc-7ebf-4106-b075-f297200d687f",
   "metadata": {},
   "source": [
    "# Topic Detection"
   ]
  },
  {
   "cell_type": "markdown",
   "id": "56e88d5e",
   "metadata": {},
   "source": [
    "## Roadmap"
   ]
  },
  {
   "cell_type": "markdown",
   "id": "a8690bbb",
   "metadata": {},
   "source": [
    "1. Load some articles\n",
    "2. Cluster in space\n",
    "3. Identify a cluster C \n",
    "4. Identify the topic T of C\n",
    "5. Search for other articles with the same topic T using Google API\n",
    "6. Get the summaries of all these articles\n",
    "7. Re-cluster the full topic T\n",
    "8. For each day of the articles, build two clusters, representing perspectives P1 and P2\n",
    "9. Get representative articles for each perspective PA1 and PA2"
   ]
  },
  {
   "cell_type": "markdown",
   "id": "8baafcda",
   "metadata": {},
   "source": [
    "### Authenticate"
   ]
  },
  {
   "cell_type": "code",
   "execution_count": 33,
   "id": "b75299aa",
   "metadata": {},
   "outputs": [],
   "source": [
    "#authenticate with OpenAI\n",
    "openai.api_key = None\n"
   ]
  },
  {
   "cell_type": "markdown",
   "id": "cd8b8755",
   "metadata": {},
   "source": [
    "## Testing"
   ]
  },
  {
   "cell_type": "code",
   "execution_count": 8,
   "id": "d0f9d3b5",
   "metadata": {},
   "outputs": [
    {
     "data": {
      "text/plain": [
       "<Engine engine id=ada at 0x7f06d660d130> JSON: {\n",
       "  \"created\": null,\n",
       "  \"id\": \"ada\",\n",
       "  \"max_replicas\": null,\n",
       "  \"object\": \"engine\",\n",
       "  \"owner\": \"openai\",\n",
       "  \"permissions\": null,\n",
       "  \"ready\": null,\n",
       "  \"replicas\": null\n",
       "}"
      ]
     },
     "execution_count": 8,
     "metadata": {},
     "output_type": "execute_result"
    }
   ],
   "source": [
    "openai.Engine.retrieve(\"ada\")"
   ]
  },
  {
   "cell_type": "code",
   "execution_count": 190,
   "id": "1347864b",
   "metadata": {},
   "outputs": [
    {
     "data": {
      "text/plain": [
       "<OpenAIObject text_completion id=cmpl-4nftEpsBPuN2YUymIi30r5wRVWcy2 at 0x7fb740398450> JSON: {\n",
       "  \"choices\": [\n",
       "    {\n",
       "      \"finish_reason\": \"length\",\n",
       "      \"index\": 0,\n",
       "      \"logprobs\": null,\n",
       "      \"text\": \" to see how you adapt\"\n",
       "    }\n",
       "  ],\n",
       "  \"created\": 1647744444,\n",
       "  \"id\": \"cmpl-4nftEpsBPuN2YUymIi30r5wRVWcy2\",\n",
       "  \"model\": \"babbage:2020-05-03\",\n",
       "  \"object\": \"text_completion\"\n",
       "}"
      ]
     },
     "execution_count": 190,
     "metadata": {},
     "output_type": "execute_result"
    }
   ],
   "source": []
  },
  {
   "cell_type": "code",
   "execution_count": 16,
   "id": "e03e2617",
   "metadata": {},
   "outputs": [],
   "source": [
    "embedding_response = openai.Embedding.create(\n",
    "  input=\"Attacks on civilians intensify as Ukraine and Russia say negotiations indicate progress\",\n",
    "  engine=\"text-similarity-babbage-001\"\n",
    ")"
   ]
  },
  {
   "cell_type": "code",
   "execution_count": 29,
   "id": "e03e2617",
   "metadata": {},
   "outputs": [],
   "source": [
    "embedding_response = openai.Embedding.create(\n",
    "  input=\"Attacks on civilians intensify as Ukraine and Russia say negotiations indicate progress\",\n",
    "  engine=\"text-similarity-curie-001\"\n",
    ")"
   ]
  },
  {
   "cell_type": "code",
   "execution_count": 30,
   "id": "054ac834",
   "metadata": {},
   "outputs": [],
   "source": [
    "embedding = np.array(embedding_response[\"data\"][0].embedding)"
   ]
  },
  {
   "cell_type": "code",
   "execution_count": 31,
   "id": "7d8e99ea",
   "metadata": {},
   "outputs": [],
   "source": [
    "country_response = openai.Embedding.create(\n",
    "  input=\"Ukraine\",\n",
    "  engine=\"text-similarity-curie-001\"\n",
    ")"
   ]
  },
  {
   "cell_type": "code",
   "execution_count": 34,
   "id": "7d8e99ea",
   "metadata": {},
   "outputs": [],
   "source": [
    "country_response = openai.Embedding.create(\n",
    "  input=\"Australia\",\n",
    "  engine=\"text-similarity-curie-001\"\n",
    ")"
   ]
  },
  {
   "cell_type": "code",
   "execution_count": 37,
   "id": "7d8e99ea",
   "metadata": {},
   "outputs": [],
   "source": [
    "country_response = openai.Embedding.create(\n",
    "  input=\"Russia\",\n",
    "  engine=\"text-similarity-curie-001\"\n",
    ")"
   ]
  },
  {
   "cell_type": "code",
   "execution_count": 38,
   "id": "2d26e5fc",
   "metadata": {},
   "outputs": [],
   "source": [
    "country = np.array(country_response[\"data\"][0].embedding)"
   ]
  },
  {
   "cell_type": "markdown",
   "id": "84738bbb",
   "metadata": {},
   "source": [
    "With Babbage:"
   ]
  },
  {
   "cell_type": "code",
   "execution_count": 22,
   "id": "f36448de",
   "metadata": {},
   "outputs": [
    {
     "data": {
      "text/plain": [
       "0.7184206142199383"
      ]
     },
     "execution_count": 22,
     "metadata": {},
     "output_type": "execute_result"
    }
   ],
   "source": [
    "np.dot(embedding, country) #Ukraine"
   ]
  },
  {
   "cell_type": "code",
   "execution_count": 25,
   "id": "f36448de",
   "metadata": {},
   "outputs": [
    {
     "data": {
      "text/plain": [
       "0.6295268565759433"
      ]
     },
     "execution_count": 25,
     "metadata": {},
     "output_type": "execute_result"
    }
   ],
   "source": [
    "np.dot(embedding, country) #Australia"
   ]
  },
  {
   "cell_type": "code",
   "execution_count": 28,
   "id": "f36448de",
   "metadata": {},
   "outputs": [
    {
     "data": {
      "text/plain": [
       "0.6946664437286045"
      ]
     },
     "execution_count": 28,
     "metadata": {},
     "output_type": "execute_result"
    }
   ],
   "source": [
    "np.dot(embedding, country) #Russia"
   ]
  },
  {
   "cell_type": "markdown",
   "id": "84738bbb",
   "metadata": {},
   "source": [
    "With Curie:"
   ]
  },
  {
   "cell_type": "code",
   "execution_count": 33,
   "id": "f36448de",
   "metadata": {},
   "outputs": [
    {
     "data": {
      "text/plain": [
       "0.6987437612905827"
      ]
     },
     "execution_count": 33,
     "metadata": {},
     "output_type": "execute_result"
    }
   ],
   "source": [
    "np.dot(embedding, country) #Ukraine"
   ]
  },
  {
   "cell_type": "code",
   "execution_count": 36,
   "id": "f36448de",
   "metadata": {},
   "outputs": [
    {
     "data": {
      "text/plain": [
       "0.61468403296813"
      ]
     },
     "execution_count": 36,
     "metadata": {},
     "output_type": "execute_result"
    }
   ],
   "source": [
    "np.dot(embedding, country) #Australia"
   ]
  },
  {
   "cell_type": "code",
   "execution_count": 39,
   "id": "f36448de",
   "metadata": {},
   "outputs": [
    {
     "data": {
      "text/plain": [
       "0.6708284090871041"
      ]
     },
     "execution_count": 39,
     "metadata": {},
     "output_type": "execute_result"
    }
   ],
   "source": [
    "np.dot(embedding, country) #Russia"
   ]
  },
  {
   "cell_type": "code",
   "execution_count": 45,
   "id": "37d54d64",
   "metadata": {},
   "outputs": [],
   "source": [
    "@retry(wait=wait_random_exponential(min=1, max=20), stop=stop_after_attempt(6))\n",
    "def get_embedding(text: str, engine=\"text-similarity-davinci-001\") -> List[float]:\n",
    "\n",
    "    # replace newlines, which can negatively affect performance.\n",
    "    text = text.replace(\"\\n\", \" \")\n",
    "\n",
    "    return openai.Embedding.create(input=[text], engine=engine)[\"data\"][0][\"embedding\"]"
   ]
  },
  {
   "cell_type": "code",
   "execution_count": 46,
   "id": "10f69510",
   "metadata": {},
   "outputs": [
    {
     "name": "stdout",
     "output_type": "stream",
     "text": [
      "1024\n"
     ]
    }
   ],
   "source": [
    "embedding = get_embedding(\"Sample query text goes here\", engine=\"text-search-ada-query-001\")\n",
    "print(len(embedding))"
   ]
  },
  {
   "cell_type": "code",
   "execution_count": 47,
   "id": "a3afff72",
   "metadata": {},
   "outputs": [
    {
     "name": "stdout",
     "output_type": "stream",
     "text": [
      "1024\n"
     ]
    }
   ],
   "source": [
    "embedding = get_embedding(\"Sample document text goes here\", engine=\"text-search-ada-doc-001\")\n",
    "print(len(embedding))"
   ]
  },
  {
   "cell_type": "markdown",
   "id": "5690beed-5776-42c8-83dc-bf507d23aa29",
   "metadata": {},
   "source": [
    "## Build Article List"
   ]
  },
  {
   "cell_type": "code",
   "execution_count": 34,
   "id": "2618c9c7-7b35-4df8-b400-20a0f473a266",
   "metadata": {},
   "outputs": [],
   "source": [
    "wechat_urls = [\n",
    "    \"https://www.smh.com.au/politics/federal/how-wechat-is-helping-the-ccp-control-australian-media-outlets-20201216-p56nvp.html\",\n",
    "    \"https://www.smh.com.au/politics/federal/beijing-controls-chinese-language-media-agencies-in-australia-says-intel-agency-20201202-p56k10.html\",\n",
    "    \"https://www.smh.com.au/politics/federal/liberal-mps-pledge-to-boycott-wechat-after-pm-blocked-from-platform-20220124-p59qqj.html\",\n",
    "    \"https://www.news.com.au/national/politics/unacceptable-gladys-liu-boycotts-wechat-over-political-interference-concerns/news-story/7e498b83f151bea27aa0f8d9fc386561\",\n",
    "    \"https://7news.com.au/politics/wechat-hits-back-at-interference-claims-c-5432089\",\n",
    "    \"https://www.scmp.com/news/china/diplomacy/article/3164999/australian-pms-wechat-transferred-new-owner-not-hacked-chinese\",\n",
    "    \"https://www.abc.net.au/news/2022-01-30/scott-morrison-lost-control-wechat-account-china-relations/100787054\",\n",
    "    \"https://www.msn.com/en-au/news/australia/chinese-businessman-reveals-why-he-bought-scott-morrison-s-wechat-account/ar-AAT5kb2?li=AAaeSy5\"\n",
    "]"
   ]
  },
  {
   "cell_type": "code",
   "execution_count": 35,
   "id": "dcedbdad-df71-4a40-9043-2a2e37453491",
   "metadata": {},
   "outputs": [],
   "source": [
    "wechat_articles = [Article(url) for url in wechat_urls]"
   ]
  },
  {
   "cell_type": "code",
   "execution_count": 36,
   "id": "f6cd7336-e6fb-44d0-8dbb-f1a41de82952",
   "metadata": {},
   "outputs": [],
   "source": [
    "smh_paper = newspaper.build('https://www.smh.com.au', memoize_articles=False)"
   ]
  },
  {
   "cell_type": "code",
   "execution_count": 37,
   "id": "66b4ae6e-5225-405f-ba05-a6ca89857f1c",
   "metadata": {},
   "outputs": [],
   "source": [
    "num_random = 20\n",
    "random_articles = smh_paper.articles[:num_random]"
   ]
  },
  {
   "cell_type": "markdown",
   "id": "03ae9a6d-2294-4cbc-81b4-0ffa6efdfaf0",
   "metadata": {},
   "source": [
    "Download and parse (\"digest\") the article:"
   ]
  },
  {
   "cell_type": "code",
   "execution_count": 38,
   "id": "6f7df2f9-0056-4908-8ea5-02b29bb6a6ab",
   "metadata": {},
   "outputs": [],
   "source": [
    "sample_articles = wechat_articles + random_articles"
   ]
  },
  {
   "cell_type": "code",
   "execution_count": 39,
   "id": "16e5ac89",
   "metadata": {},
   "outputs": [
    {
     "name": "stdout",
     "output_type": "stream",
     "text": [
      "<newspaper.article.Article object at 0x7f6d59b77a00> could not be downloaded\n",
      "<newspaper.article.Article object at 0x7f6d59b77b20> could not be downloaded\n"
     ]
    }
   ],
   "source": [
    "sample_articles = parse_articles(sample_articles)"
   ]
  },
  {
   "cell_type": "code",
   "execution_count": 40,
   "id": "39730869-67ac-4df4-b18f-e80ee848d4db",
   "metadata": {},
   "outputs": [
    {
     "name": "stdout",
     "output_type": "stream",
     "text": [
      "(3, '') could not be processed\n",
      "(4, '') could not be processed\n",
      "(5, \"Russia-Ukraine war timeline: How Vladimir Putin's invasion is progressing towards Kyiv\") could not be summarized\n",
      "(3, 'Australian PM’s WeChat transferred to new owner, not hacked, Chinese operator Tencent says') could not be summarized\n"
     ]
    }
   ],
   "source": [
    "sample_articles = interpret_articles(sample_articles)\n",
    "sample_articles = interpret_articles(sample_articles)"
   ]
  },
  {
   "cell_type": "code",
   "execution_count": 41,
   "id": "111e9533",
   "metadata": {},
   "outputs": [],
   "source": [
    "article_embeddings = embed_articles(sample_articles)"
   ]
  },
  {
   "cell_type": "code",
   "execution_count": 42,
   "id": "a7bce87b",
   "metadata": {},
   "outputs": [],
   "source": [
    "X = np.stack(article_embeddings)"
   ]
  },
  {
   "cell_type": "code",
   "execution_count": 43,
   "id": "4133efe7",
   "metadata": {},
   "outputs": [
    {
     "data": {
      "text/plain": [
       "(22, 2048)"
      ]
     },
     "execution_count": 43,
     "metadata": {},
     "output_type": "execute_result"
    }
   ],
   "source": [
    "X.shape"
   ]
  },
  {
   "cell_type": "markdown",
   "id": "701f92bb-969c-4edf-b05b-d071a193a345",
   "metadata": {},
   "source": [
    "## Visualize"
   ]
  },
  {
   "cell_type": "code",
   "execution_count": 139,
   "id": "eef67bf0-b1ab-4184-947e-07e941d7de9c",
   "metadata": {},
   "outputs": [],
   "source": [
    "pca = PCA(n_components=2)\n",
    "articles2d = pca.fit_transform(X)"
   ]
  },
  {
   "cell_type": "code",
   "execution_count": 45,
   "id": "e41d2533",
   "metadata": {},
   "outputs": [
    {
     "data": {
      "text/plain": [
       "<matplotlib.collections.PathCollection at 0x7f6d510055b0>"
      ]
     },
     "execution_count": 45,
     "metadata": {},
     "output_type": "execute_result"
    },
    {
     "data": {
      "image/png": "[encoded data removed]",
      "text/plain": [
       "<Figure size 432x288 with 1 Axes>"
      ]
     },
     "metadata": {
      "needs_background": "light"
     },
     "output_type": "display_data"
    }
   ],
   "source": [
    "# plot the result\n",
    "plt.scatter(articles2d[:, 0], articles2d[:, 1])"
   ]
  },
  {
   "cell_type": "code",
   "execution_count": 46,
   "id": "42383f4f-8eb0-4808-b56c-d25bfdafe2b9",
   "metadata": {},
   "outputs": [
    {
     "data": {
      "image/png": "[encoded data removed]",
      "text/plain": [
       "<Figure size 720x720 with 1 Axes>"
      ]
     },
     "metadata": {
      "needs_background": "light"
     },
     "output_type": "display_data"
    }
   ],
   "source": [
    "fig, ax = plt.subplots(figsize=(10,10))\n",
    "for article in articles2d[:len(wechat_urls)]:\n",
    "    ax.scatter(article[0], article[1], s=100, c=\"r\")\n",
    "for article in articles2d[len(wechat_urls):]:\n",
    "    ax.scatter(article[0], article[1], s=100, c=\"k\")"
   ]
  },
  {
   "cell_type": "markdown",
   "id": "7664ab53-b43f-45d7-a7f2-ca069d8b9d46",
   "metadata": {},
   "source": [
    "## Predict Clusters"
   ]
  },
  {
   "cell_type": "code",
   "execution_count": 47,
   "id": "214551f9-33bd-4d37-b4b8-092efae96474",
   "metadata": {},
   "outputs": [],
   "source": [
    "from sklearn.cluster import DBSCAN"
   ]
  },
  {
   "cell_type": "code",
   "execution_count": 65,
   "id": "dcf7e508-f654-4e24-84c5-70fbe7c21e79",
   "metadata": {},
   "outputs": [],
   "source": [
    "clustering = DBSCAN(eps=0.65, min_samples=2).fit(X)"
   ]
  },
  {
   "cell_type": "code",
   "execution_count": 66,
   "id": "b4bcb45f-bb22-4a26-9a75-9f3ee887d8e2",
   "metadata": {},
   "outputs": [
    {
     "data": {
      "text/plain": [
       "array([ 0,  0,  0, -1, -1, -1, -1, -1, -1, -1, -1, -1, -1, -1, -1, -1, -1,\n",
       "       -1, -1, -1, -1, -1])"
      ]
     },
     "execution_count": 66,
     "metadata": {},
     "output_type": "execute_result"
    }
   ],
   "source": [
    "clustering.labels_"
   ]
  },
  {
   "cell_type": "code",
   "execution_count": 67,
   "id": "98eed365",
   "metadata": {},
   "outputs": [
    {
     "data": {
      "text/plain": [
       "[('How WeChat is helping the CCP control Australian media outlets',\n",
       "  'https://www.smh.com.au'),\n",
       " ('Beijing controls Chinese-language media agencies in Australia, says intel agency',\n",
       "  'https://www.smh.com.au'),\n",
       " ('Liberal MPs pledge to boycott WeChat after PM blocked from platform',\n",
       "  'https://www.smh.com.au'),\n",
       " ('Latest Real Estate News and Property Market Analysis',\n",
       "  'https://www.smh.com.au/healthcare'),\n",
       " ('Russia gives ultimatum for Ukrainians in Mariupol to ‘lay down arms’',\n",
       "  'https://www.smh.com.au'),\n",
       " ('China’s markets have roared back but Russia is the elephant in the room',\n",
       "  'https://www.smh.com.au/business'),\n",
       " ('‘Hindsight is a powerful thing’: AustralianSuper CEO on exiting Russia',\n",
       "  'https://www.smh.com.au/business'),\n",
       " ('Australia news LIVE: Russian and Ukrainian forces fight for control of Mariupol; South Australia swears in new premier',\n",
       "  'https://www.smh.com.au'),\n",
       " ('FA investigating allegation Socceroos coach Arnold breached isolation order',\n",
       "  'https://www.smh.com.au/sport')]"
      ]
     },
     "execution_count": 67,
     "metadata": {},
     "output_type": "execute_result"
    }
   ],
   "source": [
    "[(article.title, article.source_url) for article in sample_articles[0:9]]"
   ]
  },
  {
   "cell_type": "code",
   "execution_count": 68,
   "id": "54a469a3-95a3-4c72-8b16-3ed64c6d816b",
   "metadata": {},
   "outputs": [
    {
     "data": {
      "image/png": "[encoded data removed]",
      "text/plain": [
       "<Figure size 720x720 with 1 Axes>"
      ]
     },
     "metadata": {
      "needs_background": "light"
     },
     "output_type": "display_data"
    }
   ],
   "source": [
    "fig, ax = plt.subplots(figsize=(10,10))\n",
    "for label in np.unique(clustering.labels_):\n",
    "    article_list = articles2d[clustering.labels_ == label]\n",
    "    ax.scatter(article_list[:, 0], article_list[:, 1], s=100)"
   ]
  },
  {
   "cell_type": "code",
   "execution_count": 69,
   "id": "5451bd28-fcf1-48ec-a6d0-b18ba97bbf10",
   "metadata": {},
   "outputs": [],
   "source": [
    "cluster_av = np.mean(X[clustering.labels_ == 0], axis=0)"
   ]
  },
  {
   "cell_type": "code",
   "execution_count": 70,
   "id": "5bc7428f-4123-4a39-a2cc-4da7f21440c9",
   "metadata": {},
   "outputs": [],
   "source": [
    "distances = np.sqrt(np.sum((cluster_av - X)**2, axis=1))"
   ]
  },
  {
   "cell_type": "code",
   "execution_count": 71,
   "id": "1b8ca35a-bb24-476e-b171-1a32114f69d4",
   "metadata": {},
   "outputs": [
    {
     "data": {
      "text/plain": [
       "array([0.31876919, 0.29093649, 0.38777134, 0.80943655, 0.65041165,\n",
       "       0.65251283, 0.62906477, 0.67906967, 0.72946656, 0.71742184,\n",
       "       0.73992096, 0.70968666, 0.71269423, 0.73092675, 0.71784646,\n",
       "       0.6324413 , 0.69623913, 0.63760023, 0.84517086, 0.688997  ,\n",
       "       0.83320093, 0.81831758])"
      ]
     },
     "execution_count": 71,
     "metadata": {},
     "output_type": "execute_result"
    }
   ],
   "source": [
    "distances"
   ]
  },
  {
   "cell_type": "markdown",
   "id": "477dc6b3",
   "metadata": {},
   "source": [
    "## Get Topic of Cluster"
   ]
  },
  {
   "cell_type": "code",
   "execution_count": 73,
   "id": "399800e5",
   "metadata": {},
   "outputs": [],
   "source": [
    "# Get sample_articles where clustering == 0\n",
    "cluster_titles = \". \".join([article.title for article in sample_articles if clustering.labels_[sample_articles.index(article)] == 0])"
   ]
  },
  {
   "cell_type": "code",
   "execution_count": 74,
   "id": "b2e54198",
   "metadata": {},
   "outputs": [],
   "source": [
    "topic = get_topic(cluster_titles, \"text-davinci-002\")"
   ]
  },
  {
   "cell_type": "code",
   "execution_count": 75,
   "id": "517c2095",
   "metadata": {},
   "outputs": [],
   "source": [
    "cluster_label = topic[\"choices\"][0][\"text\"].replace(\"\\n\", \"\")"
   ]
  },
  {
   "cell_type": "code",
   "execution_count": 76,
   "id": "12baaefa",
   "metadata": {},
   "outputs": [
    {
     "data": {
      "text/plain": [
       "<OpenAIObject text_completion id=cmpl-4o1BuOVzzYI5qkSsrvDTETZZDhZ8e at 0x7f6d59b75ea0> JSON: {\n",
       "  \"choices\": [\n",
       "    {\n",
       "      \"finish_reason\": \"stop\",\n",
       "      \"index\": 0,\n",
       "      \"logprobs\": null,\n",
       "      \"text\": \"\\n\\nCensorship of WeChat in Australia\"\n",
       "    }\n",
       "  ],\n",
       "  \"created\": 1647826326,\n",
       "  \"id\": \"cmpl-4o1BuOVzzYI5qkSsrvDTETZZDhZ8e\",\n",
       "  \"model\": \"text-davinci:002\",\n",
       "  \"object\": \"text_completion\"\n",
       "}"
      ]
     },
     "execution_count": 76,
     "metadata": {},
     "output_type": "execute_result"
    }
   ],
   "source": [
    "topic"
   ]
  },
  {
   "cell_type": "code",
   "execution_count": 77,
   "id": "54a469a3-95a3-4c72-8b16-3ed64c6d816b",
   "metadata": {},
   "outputs": [
    {
     "data": {
      "image/png": "[encoded data removed]",
      "text/plain": [
       "<Figure size 720x720 with 1 Axes>"
      ]
     },
     "metadata": {
      "needs_background": "light"
     },
     "output_type": "display_data"
    }
   ],
   "source": [
    "fig, ax = plt.subplots(figsize=(10,10))\n",
    "for label in np.unique(clustering.labels_):\n",
    "    article_list = articles2d[clustering.labels_ == label]\n",
    "    ax.scatter(article_list[:, 0], article_list[:, 1], s=100)\n",
    "    if label == 0:\n",
    "        # Plot cluster_label text in center of cluster\n",
    "        ax.text(article_list[:, 0].mean(), article_list[:, 1].mean(), cluster_label, fontsize=20)\n",
    "\n",
    "\n"
   ]
  },
  {
   "cell_type": "markdown",
   "id": "5bb01e59",
   "metadata": {},
   "source": [
    "## Find Related Articles"
   ]
  },
  {
   "cell_type": "markdown",
   "id": "bcd9dcdf",
   "metadata": {},
   "source": [
    "Get the keywords of the articles"
   ]
  },
  {
   "cell_type": "code",
   "execution_count": 96,
   "id": "98e39748",
   "metadata": {},
   "outputs": [],
   "source": [
    "import nest_asyncio\n",
    "import aiohttp\n",
    "import asyncio"
   ]
  },
  {
   "cell_type": "code",
   "execution_count": 78,
   "id": "3f85c3a3",
   "metadata": {},
   "outputs": [],
   "source": [
    "cluster_articles = [article for article in sample_articles if clustering.labels_[sample_articles.index(article)] == 0]"
   ]
  },
  {
   "cell_type": "code",
   "execution_count": 79,
   "id": "1f1ba1de",
   "metadata": {},
   "outputs": [],
   "source": [
    "# Aggregate all article keywords\n",
    "cluster_keyword_list = [article.keywords for article in cluster_articles]"
   ]
  },
  {
   "cell_type": "code",
   "execution_count": 80,
   "id": "7c8e2522",
   "metadata": {},
   "outputs": [],
   "source": [
    "# Flatten list of lists\n",
    "cluster_keyword_list = [keyword for sublist in cluster_keyword_list for keyword in sublist]"
   ]
  },
  {
   "cell_type": "code",
   "execution_count": 105,
   "id": "c7a6b7bc",
   "metadata": {},
   "outputs": [],
   "source": []
  },
  {
   "cell_type": "code",
   "execution_count": 118,
   "id": "88b2340c",
   "metadata": {},
   "outputs": [
    {
     "data": {
      "text/plain": [
       "31"
      ]
     },
     "execution_count": 118,
     "metadata": {},
     "output_type": "execute_result"
    }
   ],
   "source": [
    "len(results[0][\"entries\"])"
   ]
  },
  {
   "cell_type": "code",
   "execution_count": 120,
   "id": "8d42b20f",
   "metadata": {},
   "outputs": [],
   "source": [
    "recency = 60\n",
    "related_news_results = get_news_results(cluster_label, recency)"
   ]
  },
  {
   "cell_type": "code",
   "execution_count": 126,
   "id": "ec31f249",
   "metadata": {},
   "outputs": [
    {
     "data": {
      "text/plain": [
       "16"
      ]
     },
     "execution_count": 126,
     "metadata": {},
     "output_type": "execute_result"
    }
   ],
   "source": [
    "len(related_news_results)"
   ]
  },
  {
   "cell_type": "code",
   "execution_count": 128,
   "id": "4984d094",
   "metadata": {},
   "outputs": [
    {
     "data": {
      "text/plain": [
       "dict_keys(['title', 'title_detail', 'links', 'link', 'id', 'guidislink', 'published', 'published_parsed', 'summary', 'summary_detail', 'source', 'sub_articles'])"
      ]
     },
     "execution_count": 128,
     "metadata": {},
     "output_type": "execute_result"
    }
   ],
   "source": [
    "related_news_results[0].keys()"
   ]
  },
  {
   "cell_type": "code",
   "execution_count": 129,
   "id": "2078f5ca",
   "metadata": {},
   "outputs": [
    {
     "data": {
      "text/plain": [
       "'https://www.dw.com/en/australian-pm-morrison-loses-control-over-wechat-account/a-60532243'"
      ]
     },
     "execution_count": 129,
     "metadata": {},
     "output_type": "execute_result"
    }
   ],
   "source": [
    "related_news_results[0][\"link\"]"
   ]
  },
  {
   "cell_type": "code",
   "execution_count": 130,
   "id": "93462bcf",
   "metadata": {},
   "outputs": [],
   "source": [
    "# Make Article list from related_news_results\n",
    "related_news_articles = [Article(related_news_result[\"link\"]) for related_news_result in related_news_results]"
   ]
  },
  {
   "cell_type": "code",
   "execution_count": 132,
   "id": "89db7d1e",
   "metadata": {},
   "outputs": [
    {
     "name": "stdout",
     "output_type": "stream",
     "text": [
      "<newspaper.article.Article object at 0x7f6d5059ac10> could not be downloaded\n",
      "<newspaper.article.Article object at 0x7f6d5059af10> could not be downloaded\n",
      "<newspaper.article.Article object at 0x7f6d5059f610> could not be downloaded\n",
      "(5, '') could not be processed\n",
      "(6, '') could not be processed\n"
     ]
    }
   ],
   "source": [
    "# Parse and interpret articles\n",
    "related_news_articles = parse_articles(related_news_articles)\n",
    "related_news_articles = interpret_articles(related_news_articles)"
   ]
  },
  {
   "cell_type": "code",
   "execution_count": 136,
   "id": "4bb5d2ed",
   "metadata": {},
   "outputs": [],
   "source": [
    "# Embed articles\n",
    "related_news_embeddings = embed_articles(related_news_articles)"
   ]
  },
  {
   "cell_type": "code",
   "execution_count": 140,
   "id": "59ad2f8c",
   "metadata": {},
   "outputs": [],
   "source": [
    "# Visualise in PCA related embeddings\n",
    "related_news_embeddings = np.stack(related_news_embeddings)\n",
    "related_articles2d = pca.transform(related_news_embeddings)"
   ]
  },
  {
   "cell_type": "code",
   "execution_count": 141,
   "id": "ef31b2ba",
   "metadata": {},
   "outputs": [
    {
     "data": {
      "image/png": "[encoded data removed]",
      "text/plain": [
       "<Figure size 720x720 with 1 Axes>"
      ]
     },
     "metadata": {
      "needs_background": "light"
     },
     "output_type": "display_data"
    }
   ],
   "source": [
    "fig, ax = plt.subplots(figsize=(10,10))\n",
    "for article in articles2d[:len(wechat_urls)]:\n",
    "    ax.scatter(article[0], article[1], s=100, c=\"r\")\n",
    "for article in articles2d[len(wechat_urls):]:\n",
    "    ax.scatter(article[0], article[1], s=100, c=\"k\")\n",
    "for article in related_articles2d:\n",
    "    ax.scatter(article[0], article[1], s=100, c=\"b\")"
   ]
  },
  {
   "cell_type": "code",
   "execution_count": 144,
   "id": "cd50df9a",
   "metadata": {},
   "outputs": [],
   "source": [
    "# Get distance of related embeddings from average cluster embedding\n",
    "related_distances = np.sqrt(np.sum((cluster_av - related_news_embeddings)**2, axis=1))\n",
    "other_distances = np.sqrt(np.sum((cluster_av - X)**2, axis=1))"
   ]
  },
  {
   "cell_type": "code",
   "execution_count": 143,
   "id": "34ddfc6d",
   "metadata": {},
   "outputs": [
    {
     "data": {
      "text/plain": [
       "array([0.41149301, 0.58041668, 0.68181251, 0.64576979, 0.75236009,\n",
       "       0.80943655, 0.80943655, 0.70077292, 0.66798308, 0.75236009,\n",
       "       0.57630296])"
      ]
     },
     "execution_count": 143,
     "metadata": {},
     "output_type": "execute_result"
    }
   ],
   "source": [
    "related_distances"
   ]
  },
  {
   "cell_type": "code",
   "execution_count": 145,
   "id": "0febfc96",
   "metadata": {},
   "outputs": [
    {
     "data": {
      "text/plain": [
       "array([0.31876919, 0.29093649, 0.38777134, 0.80943655, 0.65041165,\n",
       "       0.65251283, 0.62906477, 0.67906967, 0.72946656, 0.71742184,\n",
       "       0.73992096, 0.70968666, 0.71269423, 0.73092675, 0.71784646,\n",
       "       0.6324413 , 0.69623913, 0.63760023, 0.84517086, 0.688997  ,\n",
       "       0.83320093, 0.81831758])"
      ]
     },
     "execution_count": 145,
     "metadata": {},
     "output_type": "execute_result"
    }
   ],
   "source": [
    "other_distances"
   ]
  },
  {
   "cell_type": "code",
   "execution_count": 146,
   "id": "c0ea759c",
   "metadata": {},
   "outputs": [],
   "source": [
    "# Get DBSCAN of all articles\n",
    "clustering = DBSCAN(eps=0.65, min_samples=2).fit(np.concatenate((X, related_news_embeddings)))"
   ]
  },
  {
   "cell_type": "code",
   "execution_count": 147,
   "id": "4f257727",
   "metadata": {},
   "outputs": [
    {
     "data": {
      "text/plain": [
       "array([ 0,  0,  0,  1,  2, -1, -1, -1, -1, -1, -1, -1, -1, -1, -1, -1, -1,\n",
       "       -1, -1, -1, -1, -1,  0,  0, -1, -1,  3,  1,  1, -1,  2,  3,  0])"
      ]
     },
     "execution_count": 147,
     "metadata": {},
     "output_type": "execute_result"
    }
   ],
   "source": [
    "clustering.labels_"
   ]
  },
  {
   "cell_type": "code",
   "execution_count": null,
   "id": "4f2467c5",
   "metadata": {},
   "outputs": [],
   "source": []
  }
 ],
 "metadata": {
  "interpreter": {
   "hash": "31f2aee4e71d21fbe5cf8b01ff0e069b9275f58929596ceb00d14d90e3e16cd6"
  },
  "kernelspec": {
   "display_name": "TopicDetection",
   "language": "python",
   "name": "python3"
  },
  "language_info": {
   "codemirror_mode": {
    "name": "ipython",
    "version": 3
   },
   "file_extension": ".py",
   "mimetype": "text/x-python",
   "name": "python",
   "nbconvert_exporter": "python",
   "pygments_lexer": "ipython3",
   "version": "3.8.12"
  }
 },
 "nbformat": 4,
 "nbformat_minor": 5
}
