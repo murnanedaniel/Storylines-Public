{
 "cells": [
  {
   "cell_type": "code",
   "execution_count": 167,
   "id": "b9ab4342-12e5-4d8b-ba9f-bc8b3821b729",
   "metadata": {},
   "outputs": [
    {
     "name": "stdout",
     "output_type": "stream",
     "text": [
      "The autoreload extension is already loaded. To reload it, use:\n",
      "  %reload_ext autoreload\n",
      "Enabling notebook extension jupyter-js-widgets/extension...\n",
      "      - Validating: \u001b[32mOK\u001b[0m\n",
      "Enabling: voila\n",
      "- Writing config: /home/murnanedaniel/miniconda3/envs/topicDetect/etc/jupyter\n",
      "    - Validating...\n",
      "      voila 0.3.3 \u001b[32mOK\u001b[0m\n"
     ]
    }
   ],
   "source": [
    "%load_ext autoreload\n",
    "%autoreload 2\n",
    "\n",
    "from newspaper import Article\n",
    "import newspaper\n",
    "from sklearn.decomposition import PCA\n",
    "import numpy as np\n",
    "import matplotlib.pyplot as plt\n",
    "import openai\n",
    "import random\n",
    "from sklearn.cluster import DBSCAN, KMeans\n",
    "from datetime import datetime as dt \n",
    "import datetime\n",
    "\n",
    "# import local modules\n",
    "from utils import *\n",
    "\n",
    "!jupyter nbextension enable --py widgetsnbextension --sys-prefix\n",
    "!jupyter serverextension enable voila --sys-prefix\n",
    "\n",
    "import ipywidgets as widgets\n",
    "from IPython.display import display, clear_output"
   ]
  },
  {
   "cell_type": "markdown",
   "id": "6658bafc-7ebf-4106-b075-f297200d687f",
   "metadata": {},
   "source": [
    "# Topic Detection"
   ]
  },
  {
   "cell_type": "markdown",
   "id": "56e88d5e",
   "metadata": {},
   "source": [
    "## Roadmap"
   ]
  },
  {
   "cell_type": "markdown",
   "id": "a8690bbb",
   "metadata": {},
   "source": [
    "1. Load some articles\n",
    "2. Cluster in space\n",
    "3. Identify a cluster C \n",
    "4. Identify the topic T of C\n",
    "5. Search for other articles with the same topic T using Google API\n",
    "6. Get the summaries of all these articles\n",
    "7. Re-cluster the full topic T\n",
    "8. For each day of the articles, build two clusters, representing perspectives P1 and P2\n",
    "9. Get representative articles for each perspective PA1 and PA2"
   ]
  },
  {
   "cell_type": "markdown",
   "id": "8baafcda",
   "metadata": {},
   "source": [
    "### Authenticate"
   ]
  },
  {
   "cell_type": "code",
   "execution_count": 16,
   "id": "66ecb894",
   "metadata": {},
   "outputs": [],
   "source": [
    "open_api_key = widgets.Text(placeholder='Enter your OpenAI API key here', description='OpenAI API key', value=None)\n",
    "google_api_key = widgets.Text(placeholder='Enter your Google API key here', description='Google API key', value=None)"
   ]
  },
  {
   "cell_type": "code",
   "execution_count": 17,
   "id": "b7a468fc",
   "metadata": {},
   "outputs": [
    {
     "data": {
      "application/vnd.jupyter.widget-view+json": {
       "model_id": "55e46489089444d3956febbbf5a1d10c",
       "version_major": 2,
       "version_minor": 0
      },
      "text/plain": [
       "Text(value='', description='OpenAI API key', placeholder='Enter your OpenAI API key here')"
      ]
     },
     "metadata": {},
     "output_type": "display_data"
    }
   ],
   "source": [
    "open_api_key"
   ]
  },
  {
   "cell_type": "code",
   "execution_count": 18,
   "id": "c179a718",
   "metadata": {},
   "outputs": [
    {
     "data": {
      "application/vnd.jupyter.widget-view+json": {
       "model_id": "3d5f266047c5451b8b640b748e4402bc",
       "version_major": 2,
       "version_minor": 0
      },
      "text/plain": [
       "Text(value='', description='Google API key', placeholder='Enter your Google API key here')"
      ]
     },
     "metadata": {},
     "output_type": "display_data"
    }
   ],
   "source": [
    "google_api_key"
   ]
  },
  {
   "cell_type": "code",
   "execution_count": 19,
   "id": "a8cfc22e",
   "metadata": {},
   "outputs": [],
   "source": [
    "# button to run authentication\n",
    "auth_button = widgets.Button(description=\"Run\",\n",
    "tooltip=\"Run authentication\"\n",
    ")\n",
    "auth_output = widgets.Output()\n",
    "\n",
    "# authentication function when button is clicked\n",
    "def auth_button_clicked(b):\n",
    "    with auth_output:\n",
    "        openai.api_key = open_api_key.value\n",
    "        google_api_key.value\n",
    "        print(\"Authenticated\")\n",
    "\n",
    "auth_button.on_click(auth_button_clicked)\n",
    "auth_result = widgets.VBox([auth_button, auth_output])"
   ]
  },
  {
   "cell_type": "code",
   "execution_count": 20,
   "id": "759bab1c",
   "metadata": {},
   "outputs": [
    {
     "data": {
      "application/vnd.jupyter.widget-view+json": {
       "model_id": "774450fca3ec45f4b5367b8b15cad02a",
       "version_major": 2,
       "version_minor": 0
      },
      "text/plain": [
       "VBox(children=(Button(description='Run', style=ButtonStyle(), tooltip='Run authentication'), Output()))"
      ]
     },
     "metadata": {},
     "output_type": "display_data"
    }
   ],
   "source": [
    "auth_result"
   ]
  },
  {
   "cell_type": "markdown",
   "id": "5690beed-5776-42c8-83dc-bf507d23aa29",
   "metadata": {},
   "source": [
    "## Build Article List"
   ]
  },
  {
   "cell_type": "code",
   "execution_count": 26,
   "id": "71ca219e",
   "metadata": {},
   "outputs": [
    {
     "data": {
      "application/vnd.jupyter.widget-view+json": {
       "model_id": "9bbafc2572544dec84a9fcfabe087a8e",
       "version_major": 2,
       "version_minor": 0
      },
      "text/plain": [
       "Text(value='Ukraine', description='Seed topic', placeholder='Enter a seed topic here')"
      ]
     },
     "metadata": {},
     "output_type": "display_data"
    }
   ],
   "source": [
    "seed_topic = widgets.Text(placeholder='Enter a seed topic here', description='Seed topic', value=\"Ukraine\")\n",
    "seed_topic"
   ]
  },
  {
   "cell_type": "code",
   "execution_count": 50,
   "id": "496c09ee",
   "metadata": {},
   "outputs": [],
   "source": [
    "topic_button = widgets.Button(description=\"Build topic\", tooltip=\"Run topic builder\")\n",
    "topic_output = widgets.Output()\n",
    "\n",
    "def topic_button_clicked(b):\n",
    "    with topic_output:\n",
    "        global sample_articles, seed_articles\n",
    "\n",
    "        seed_search_results = get_news_results(seed_topic.value, google_api_key.value, recency=14)\n",
    "        seed_search_results = [result[\"link\"] for result in random.sample(seed_search_results, 10)]\n",
    "        seed_articles = [Article(url) for url in seed_search_results]\n",
    "\n",
    "        smh_paper = newspaper.build('https://www.smh.com.au', memoize_articles=False)\n",
    "        num_random = 30\n",
    "        random_articles = smh_paper.articles[:num_random]\n",
    "        \n",
    "        sample_articles = seed_articles + random_articles\n",
    "\n",
    "        sample_articles = parse_articles(sample_articles)\n",
    "        sample_articles = interpret_articles(sample_articles)\n",
    "        sample_articles = interpret_articles(sample_articles)\n",
    "\n",
    "        print(\"Found initially {} articles\".format(len(sample_articles)))\n",
    "\n",
    "topic_button.on_click(topic_button_clicked)\n",
    "topic_result = widgets.VBox([topic_button, topic_output])"
   ]
  },
  {
   "cell_type": "markdown",
   "id": "b965596c",
   "metadata": {},
   "source": [
    "Build the topic list (this may take a minute)"
   ]
  },
  {
   "cell_type": "code",
   "execution_count": 51,
   "id": "8e4f07b8",
   "metadata": {},
   "outputs": [
    {
     "data": {
      "application/vnd.jupyter.widget-view+json": {
       "model_id": "8153b99d85c54f0687b2dc9caebb5dc4",
       "version_major": 2,
       "version_minor": 0
      },
      "text/plain": [
       "VBox(children=(Button(description='Build topic', style=ButtonStyle(), tooltip='Run topic builder'), Output()))"
      ]
     },
     "metadata": {},
     "output_type": "display_data"
    }
   ],
   "source": [
    "topic_result"
   ]
  },
  {
   "cell_type": "code",
   "execution_count": 124,
   "id": "52d54c69",
   "metadata": {},
   "outputs": [],
   "source": [
    "embedding_button = widgets.Button(description=\"Build embeddings\", tooltip=\"Run embedding builder\")\n",
    "embedding_output = widgets.Output()\n",
    "\n",
    "def embedding_button_clicked(b):\n",
    "    with embedding_output:\n",
    "        global article_embeddings, X, articles2d, pca, embedding_ax, embedding_fig\n",
    "        article_embeddings = embed_articles(sample_articles)\n",
    "        X = np.stack(article_embeddings)\n",
    "        print(\"Stacked\")\n",
    "        pca = PCA(n_components=2)\n",
    "        articles2d = pca.fit_transform(X)\n",
    "        print(\"Found {} articles\".format(len(articles2d)))\n",
    "\n",
    "        for article in articles2d[:len(seed_articles)]:\n",
    "            embedding_ax.scatter(article[0], article[1], s=100, c=\"r\")\n",
    "        for article in articles2d[len(seed_articles):]:\n",
    "            embedding_ax.scatter(article[0], article[1], s=100, c=\"k\")\n",
    "\n",
    "        print(\"Plotted\")\n",
    "\n",
    "embedding_button.on_click(embedding_button_clicked)\n",
    "embedding_result = widgets.VBox([embedding_button, embedding_output])"
   ]
  },
  {
   "cell_type": "markdown",
   "id": "24e7092c",
   "metadata": {},
   "source": [
    "We want to embed our sample articles into a high-dimensional space with GPT-3"
   ]
  },
  {
   "cell_type": "code",
   "execution_count": 125,
   "id": "f6cd7336-e6fb-44d0-8dbb-f1a41de82952",
   "metadata": {},
   "outputs": [
    {
     "data": {
      "application/vnd.jupyter.widget-view+json": {
       "model_id": "b792bf8f60e0459ba7367c33762699dc",
       "version_major": 2,
       "version_minor": 0
      },
      "text/plain": [
       "VBox(children=(Button(description='Build embeddings', style=ButtonStyle(), tooltip='Run embedding builder'), O…"
      ]
     },
     "metadata": {},
     "output_type": "display_data"
    }
   ],
   "source": [
    "embedding_result"
   ]
  },
  {
   "cell_type": "code",
   "execution_count": 126,
   "id": "508360d9",
   "metadata": {},
   "outputs": [
    {
     "data": {
      "image/png": "[encoded data removed]",
      "text/plain": [
       "<Figure size 720x720 with 1 Axes>"
      ]
     },
     "execution_count": 126,
     "metadata": {},
     "output_type": "execute_result"
    }
   ],
   "source": [
    "embedding_fig, embedding_ax = plt.subplots(figsize=(10,10))"
   ]
  },
  {
   "cell_type": "markdown",
   "id": "701f92bb-969c-4edf-b05b-d071a193a345",
   "metadata": {},
   "source": [
    "## Visualize"
   ]
  },
  {
   "cell_type": "markdown",
   "id": "7664ab53-b43f-45d7-a7f2-ca069d8b9d46",
   "metadata": {},
   "source": [
    "## Predict Clusters"
   ]
  },
  {
   "cell_type": "code",
   "execution_count": 153,
   "id": "214551f9-33bd-4d37-b4b8-092efae96474",
   "metadata": {},
   "outputs": [],
   "source": [
    "cluster_button = widgets.Button(description=\"Predict cluster\", tooltip=\"Run clustering\")\n",
    "cluster_output = widgets.Output()\n",
    "\n",
    "def cluster_button_clicked(b):\n",
    "    with cluster_output:\n",
    "        global db, kmeans, labels, cluster_ax, cluster_fig, cluster_topics, cluster_label\n",
    "        num_clusters = 0\n",
    "        eps = 0.6\n",
    "        while num_clusters < 1:\n",
    "            db = DBSCAN(eps=eps, min_samples=3).fit(X)\n",
    "            labels = db.labels_\n",
    "            num_clusters = len(np.unique(labels))-1\n",
    "            eps += 0.05\n",
    "        print(\"Found {} clusters\".format(len(set(labels))))\n",
    "\n",
    "        cluster_titles = \". \".join([article.title for article in sample_articles if db.labels_[sample_articles.index(article)] == 0])\n",
    "        topic = get_topic(cluster_titles, \"text-davinci-002\")\n",
    "        cluster_label = topic[\"choices\"][0][\"text\"].replace(\"\\n\", \"\")\n",
    "\n",
    "        cluster_topics = []\n",
    "        for label in np.unique(db.labels_)[1:]:\n",
    "            cluster_titles = \". \".join([article.title for article in sample_articles if db.labels_[sample_articles.index(article)] == label])\n",
    "            topic = get_topic(cluster_titles, \"text-davinci-002\")\n",
    "            cluster_topics.append(topic[\"choices\"][0][\"text\"].replace(\"\\n\", \"\"))\n",
    "\n",
    "        noise_article_list = articles2d[db.labels_ == -1]\n",
    "        cluster_ax.scatter(noise_article_list[:, 0], noise_article_list[:, 1], s=30, c=\"k\")\n",
    "\n",
    "        for label, topic in zip(np.unique(db.labels_)[1:], cluster_topics):\n",
    "            article_list = articles2d[db.labels_ == label]\n",
    "            cluster_ax.scatter(article_list[:, 0], article_list[:, 1], s=100)\n",
    "            # Plot cluster_label text in center of cluster\n",
    "            cluster_ax.text(article_list[:, 0].mean(), article_list[:, 1].mean(), cluster_label, fontsize=20)\n",
    "            # Draw a circle around all points in article_list\n",
    "            circle_center = article_list[:, 0].mean(), article_list[:, 1].mean()\n",
    "            distances_from_mean = np.sqrt(np.sum((article_list - circle_center)**2, axis=1))\n",
    "            circle_radius = distances_from_mean.max() * 1.2\n",
    "            cluster_ax.add_patch(plt.Circle((article_list[:, 0].mean(), article_list[:, 1].mean()), radius=circle_radius, alpha=0.2))\n",
    "\n",
    "        print(\"Finished plotting!\")\n",
    "\n",
    "cluster_button.on_click(cluster_button_clicked)\n",
    "cluster_result = widgets.VBox([cluster_button, cluster_output])"
   ]
  },
  {
   "cell_type": "markdown",
   "id": "477dc6b3",
   "metadata": {},
   "source": [
    "## Get Topic of Cluster"
   ]
  },
  {
   "cell_type": "code",
   "execution_count": 108,
   "id": "54a469a3-95a3-4c72-8b16-3ed64c6d816b",
   "metadata": {},
   "outputs": [
    {
     "data": {
      "image/png": "[encoded data removed]",
      "text/plain": [
       "<Figure size 720x720 with 1 Axes>"
      ]
     },
     "metadata": {
      "needs_background": "light"
     },
     "output_type": "display_data"
    }
   ],
   "source": [
    "cluster_fig, cluster_ax = plt.subplots(figsize=(10,10))"
   ]
  },
  {
   "cell_type": "code",
   "execution_count": 109,
   "id": "d0795184",
   "metadata": {},
   "outputs": [
    {
     "data": {
      "application/vnd.jupyter.widget-view+json": {
       "model_id": "aad4333a70c14d6cbb8bd45294443295",
       "version_major": 2,
       "version_minor": 0
      },
      "text/plain": [
       "VBox(children=(Button(description='Predict cluster', style=ButtonStyle(), tooltip='Run clustering'), Output())…"
      ]
     },
     "metadata": {},
     "output_type": "display_data"
    }
   ],
   "source": [
    "cluster_result"
   ]
  },
  {
   "cell_type": "code",
   "execution_count": 105,
   "id": "52e477da",
   "metadata": {},
   "outputs": [
    {
     "data": {
      "image/png": "[encoded data removed]",
      "text/plain": [
       "<Figure size 720x720 with 1 Axes>"
      ]
     },
     "execution_count": 105,
     "metadata": {},
     "output_type": "execute_result"
    }
   ],
   "source": [
    "cluster_fig"
   ]
  },
  {
   "cell_type": "markdown",
   "id": "5bb01e59",
   "metadata": {},
   "source": [
    "## Find Related Articles"
   ]
  },
  {
   "cell_type": "markdown",
   "id": "bcd9dcdf",
   "metadata": {},
   "source": [
    "Let's focus on the blue cluster, and find some more articles about it."
   ]
  },
  {
   "cell_type": "code",
   "execution_count": 118,
   "id": "35a46c9f",
   "metadata": {},
   "outputs": [],
   "source": [
    "related_button = widgets.Button(description=\"Get related articles\", tooltip=\"Run search\")\n",
    "related_output = widgets.Output()\n",
    "\n",
    "def related_button_clicked(b):\n",
    "    with related_output:\n",
    "        global cluster_topic, all_articles, related_news_articles\n",
    "        cluster_topic = cluster_topics[0]\n",
    "        print(f\"Let's focus on the first cluster topic: {cluster_topic}\")\n",
    "\n",
    "        cluster_articles = [article for article in sample_articles if db.labels_[sample_articles.index(article)] == 0]\n",
    "        # Aggregate all article keywords\n",
    "        cluster_keyword_list = [article.keywords for article in cluster_articles]\n",
    "\n",
    "        # Flatten list of lists\n",
    "        cluster_keyword_list = [keyword for sublist in cluster_keyword_list for keyword in sublist]\n",
    "\n",
    "        recency = 60\n",
    "        related_news_results = get_news_results(cluster_label, google_api_key.value, recency=recency)\n",
    "        print(f\"Found {len(related_news_results)} related news results\")\n",
    "\n",
    "        # Make Article list from related_news_results\n",
    "        related_news_articles = [Article(related_news_result[\"link\"]) for related_news_result in related_news_results]\n",
    "\n",
    "        # Parse and interpret articles\n",
    "        related_news_articles = parse_articles(related_news_articles)\n",
    "        related_news_articles = interpret_articles(related_news_articles)\n",
    "\n",
    "        all_articles = sample_articles + related_news_articles\n",
    "\n",
    "related_button.on_click(related_button_clicked)\n",
    "related_result = widgets.VBox([related_button, related_output])"
   ]
  },
  {
   "cell_type": "code",
   "execution_count": 119,
   "id": "36ad9f19",
   "metadata": {},
   "outputs": [
    {
     "data": {
      "application/vnd.jupyter.widget-view+json": {
       "model_id": "a294314dd18b4bd3af1ef4c5b5dac8ae",
       "version_major": 2,
       "version_minor": 0
      },
      "text/plain": [
       "VBox(children=(Button(description='Get related articles', style=ButtonStyle(), tooltip='Run search'), Output()…"
      ]
     },
     "metadata": {},
     "output_type": "display_data"
    }
   ],
   "source": [
    "related_result"
   ]
  },
  {
   "cell_type": "markdown",
   "id": "8be5fc33",
   "metadata": {},
   "source": [
    "Now, we re-cluster the full topic and this will form the basis of our Storyline:"
   ]
  },
  {
   "cell_type": "code",
   "execution_count": 154,
   "id": "16c33e78",
   "metadata": {},
   "outputs": [],
   "source": [
    "recluster_button = widgets.Button(description=\"Re-cluster with related articles\", tooltip=\"Run re-cluster\")\n",
    "recluster_output = widgets.Output()\n",
    "\n",
    "def recluster_button_clicked(b):\n",
    "    with recluster_output:\n",
    "        global storyline_articles, recluster_ax, pca\n",
    "        average_article_summary_length = np.mean([len(article.summary.split(\" \")) for article in related_news_articles])\n",
    "        print(f\"We need to be a little careful with using GPT-3. We will be embedding {len(related_news_articles)} articles, and the average article summary length is {average_article_summary_length:,.2f} tokens.\")\n",
    "        print(f\"The engine we are using costs ~1c per 1k tokens, therefore {len(related_news_articles)} articles will cost ~${len(related_news_articles) * average_article_summary_length / 1000 / 100:,.2f}. I.e. Don't run this step for fun!\")\n",
    "\n",
    "        # Embed articles\n",
    "        related_news_embeddings = embed_articles(related_news_articles)\n",
    "        \n",
    "        # Visualise in PCA related embeddings\n",
    "        related_news_embeddings = np.stack(related_news_embeddings)\n",
    "        related_articles2d = pca.transform(related_news_embeddings)\n",
    "        \n",
    "        recluster_ax.scatter(articles2d[:len(seed_articles), 0], articles2d[:len(seed_articles), 1], s=100, c=\"b\", label=cluster_topic)\n",
    "        recluster_ax.scatter(articles2d[len(seed_articles):, 0], articles2d[len(seed_articles):, 1], s=30, c=\"k\", label=\"Unrelated Articles\")\n",
    "        recluster_ax.scatter(related_articles2d[:, 0], related_articles2d[:, 1], s=100, c=\"r\", label=\"Related Articles\")\n",
    "        recluster_ax.legend()\n",
    "\n",
    "        new_articles_embedding = np.concatenate([X, related_news_embeddings])\n",
    "\n",
    "        pca = PCA(n_components=2)\n",
    "        new_articles2d = pca.fit_transform(new_articles_embedding)\n",
    "\n",
    "        num_clusters = 0\n",
    "        eps = 0.6\n",
    "        while num_clusters < 1:\n",
    "            new_clustering = DBSCAN(eps=eps, min_samples=3).fit(new_articles_embedding)\n",
    "            num_clusters = len(np.unique(new_clustering.labels_)) -1\n",
    "            eps += 0.05\n",
    "        print(f\"Found {num_clusters} clusters\")\n",
    "\n",
    "        for label in np.unique(db.labels_):\n",
    "            article_list = new_articles2d[new_clustering.labels_ == label]\n",
    "            recluster_ax.scatter(article_list[:, 0], article_list[:, 1], s=100)\n",
    "\n",
    "        overlap_labels = new_clustering.labels_[:len(db.labels_)][db.labels_ == 0]\n",
    "        overlap_labels = overlap_labels[overlap_labels != -1]\n",
    "        most_overlap_cluster = np.apply_along_axis(lambda x: np.bincount(x).argmax(), axis=0, arr=overlap_labels)\n",
    "        print(f\"The most overlapping cluster is {most_overlap_cluster}\")\n",
    "\n",
    "        all_articles_dict = [article.__dict__ for article in all_articles]\n",
    "\n",
    "        for i, article in enumerate(all_articles_dict):\n",
    "            article[\"embedding\"] = new_articles_embedding[i]\n",
    "            article[\"2d\"] = new_articles2d[i]\n",
    "\n",
    "        storyline_articles = [article for article in all_articles_dict if new_clustering.labels_[all_articles_dict.index(article)] == most_overlap_cluster]\n",
    "\n",
    "        # Remove storyline articles that don't have a publish date\n",
    "        storyline_articles = [article for article in storyline_articles if article[\"publish_date\"] is not None]\n",
    "        print(f\"Found {len(storyline_articles)} storyline articles\")\n",
    "\n",
    "recluster_button.on_click(recluster_button_clicked)\n",
    "recluster_result = widgets.VBox([recluster_button, recluster_output])"
   ]
  },
  {
   "cell_type": "code",
   "execution_count": 155,
   "id": "ae0c6737",
   "metadata": {},
   "outputs": [
    {
     "data": {
      "image/png": "[encoded data removed]",
      "text/plain": [
       "<Figure size 720x720 with 1 Axes>"
      ]
     },
     "metadata": {
      "needs_background": "light"
     },
     "output_type": "display_data"
    }
   ],
   "source": [
    "recluster_fig, recluster_ax = plt.subplots(figsize=(10,10))"
   ]
  },
  {
   "cell_type": "code",
   "execution_count": 158,
   "id": "abd4842b",
   "metadata": {},
   "outputs": [
    {
     "data": {
      "application/vnd.jupyter.widget-view+json": {
       "model_id": "715dd344620947329620c971d9188df7",
       "version_major": 2,
       "version_minor": 0
      },
      "text/plain": [
       "VBox(children=(Button(description='Re-cluster with related articles', style=ButtonStyle(), tooltip='Run re-clu…"
      ]
     },
     "metadata": {},
     "output_type": "display_data"
    }
   ],
   "source": [
    "recluster_result"
   ]
  },
  {
   "cell_type": "code",
   "execution_count": 157,
   "id": "54a469a3-95a3-4c72-8b16-3ed64c6d816b",
   "metadata": {},
   "outputs": [
    {
     "data": {
      "image/png": "[encoded data removed]",
      "text/plain": [
       "<Figure size 720x720 with 1 Axes>"
      ]
     },
     "execution_count": 157,
     "metadata": {},
     "output_type": "execute_result"
    }
   ],
   "source": [
    "recluster_fig"
   ]
  },
  {
   "cell_type": "markdown",
   "id": "fadc9a10",
   "metadata": {},
   "source": [
    "Now we have a full set of well-clustered and well-populated articles on a topic. This is our \"Storyline\". Now we need to process it for easy consumption. Let's create a \"view\" of the latest week, and see which articles are most representative of two competing viewpoints."
   ]
  },
  {
   "cell_type": "code",
   "execution_count": 192,
   "id": "1b82590c",
   "metadata": {},
   "outputs": [],
   "source": [
    "weekview_button = widgets.Button(description=\"Represent Weekview\", tooltip=\"Run week representation\")\n",
    "weekview_output = widgets.Output()\n",
    "\n",
    "    \n",
    "def weekview_button_clicked(b):\n",
    "    with weekview_output:\n",
    "        global storyline_articles, weekview_ax, weekview_fig, weekview_articles, weekview_embeddings, weekview_2d, comparison\n",
    "        for article in storyline_articles:\n",
    "            article[\"publish_date\"] = article[\"publish_date\"].replace(tzinfo=None)\n",
    "        storyline_articles = sorted(storyline_articles, key=lambda x: x[\"publish_date\"])\n",
    "\n",
    "        week_start = dt.now() - datetime.timedelta(days=7)\n",
    "        week_end = dt.now()\n",
    "        weekview_articles = [article for article in storyline_articles if article[\"publish_date\"] >= week_start and article[\"publish_date\"] <= week_end]\n",
    "\n",
    "        weekview_embeddings = [article[\"embedding\"] for article in weekview_articles]\n",
    "        weekview2d = pca.transform(weekview_embeddings)\n",
    "        weekview_embeddings = np.stack(weekview_embeddings)\n",
    "        weekview_clustering = KMeans(n_clusters=2).fit(weekview_embeddings)\n",
    "\n",
    "        # Plot the weekview 2d embeddings\n",
    "        fig, ax = plt.subplots(figsize=(10,10))\n",
    "        for label in np.unique(weekview_clustering.labels_):\n",
    "            article_list = weekview2d[weekview_clustering.labels_ == label]\n",
    "            ax.scatter(article_list[:, 0], article_list[:, 1], s=100, label=label)\n",
    "        ax.legend( loc='upper center', bbox_to_anchor=(0.5, -0.05), fancybox=True, shadow=True, ncol=5)\n",
    "        ax.set_title(f\"Weekview of {cluster_topic}, for two different perspectives\")\n",
    "\n",
    "        cluster0_mean = weekview_embeddings[weekview_clustering.labels_ == 0].mean(axis=0)\n",
    "        cluster0_distances = np.sqrt(np.sum((weekview_embeddings - cluster0_mean)**2, axis=1))\n",
    "        cluster0_representative_article = weekview_articles[np.argmin(cluster0_distances)]\n",
    "\n",
    "        cluster0_representative_article = get_representative(weekview_embeddings, weekview_clustering.labels_, weekview_articles, 0)\n",
    "        cluster1_representative_article = get_representative(weekview_embeddings, weekview_clustering.labels_, weekview_articles, 1)\n",
    "\n",
    "        print(\"The two representative articles are:\")\n",
    "        print(cluster0_representative_article[\"source_url\"])\n",
    "        print(cluster1_representative_article[\"source_url\"])\n",
    "\n",
    "        comparison = get_comparison(cluster0_representative_article, cluster1_representative_article)[\"choices\"][0][\"text\"].replace(\"\\n\", \"\")\n",
    "        print(f\"This is the comparison we get from GPT-3: \\n\\n{comparison}\")\n",
    "    \n",
    "weekview_button.on_click(weekview_button_clicked)\n",
    "# Make VBox with width 100px\n",
    "weekview_result = widgets.HBox([widgets.VBox([weekview_button, weekview_output], layout=widgets.Layout(width=\"100%\"))])"
   ]
  },
  {
   "cell_type": "code",
   "execution_count": 193,
   "id": "bdeabca5",
   "metadata": {},
   "outputs": [
    {
     "data": {
      "image/png": "[encoded data removed]",
      "text/plain": [
       "<Figure size 720x720 with 1 Axes>"
      ]
     },
     "metadata": {
      "needs_background": "light"
     },
     "output_type": "display_data"
    }
   ],
   "source": [
    "weekview_ax, weekview_fig = plt.subplots(figsize=(10,10))"
   ]
  },
  {
   "cell_type": "code",
   "execution_count": 194,
   "id": "171a22b3",
   "metadata": {},
   "outputs": [
    {
     "data": {
      "application/vnd.jupyter.widget-view+json": {
       "model_id": "f6258c011b6240e3a7ade70bed051567",
       "version_major": 2,
       "version_minor": 0
      },
      "text/plain": [
       "HBox(children=(VBox(children=(Button(description='Represent Weekview', style=ButtonStyle(), tooltip='Run week …"
      ]
     },
     "metadata": {},
     "output_type": "display_data"
    }
   ],
   "source": [
    "weekview_result"
   ]
  },
  {
   "cell_type": "code",
   "execution_count": null,
   "id": "ba28cf67",
   "metadata": {},
   "outputs": [],
   "source": []
  }
 ],
 "metadata": {
  "interpreter": {
   "hash": "31f2aee4e71d21fbe5cf8b01ff0e069b9275f58929596ceb00d14d90e3e16cd6"
  },
  "kernelspec": {
   "display_name": "TopicDetection",
   "language": "python",
   "name": "python3"
  },
  "language_info": {
   "codemirror_mode": {
    "name": "ipython",
    "version": 3
   },
   "file_extension": ".py",
   "mimetype": "text/x-python",
   "name": "python",
   "nbconvert_exporter": "python",
   "pygments_lexer": "ipython3",
   "version": "3.8.12"
  }
 },
 "nbformat": 4,
 "nbformat_minor": 5
}
